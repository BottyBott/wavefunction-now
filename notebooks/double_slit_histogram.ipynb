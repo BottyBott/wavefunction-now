{
  "cells": [
    {
      "cell_type": "markdown",
      "metadata": {},
      "source": [
        "# Double-Slit Histogram Correlation\n",
        "\n",
        "This notebook uses the solver's coarse-grained probability tools to check that Monte Carlo detector events reproduce the interference pattern from a double-slit style preparation."
      ]
    },
    {
      "cell_type": "code",
      "execution_count": 1,
      "metadata": {},
      "outputs": [],
      "source": [
        "import numpy as np\n",
        "import matplotlib.pyplot as plt\n",
        "\n",
        "from wavefunction_now.solver import SplitStepSimulator\n",
        "from wavefunction_now.measurement import (\n",
        "    born_probability,\n",
        "    chi_squared_gof,\n",
        "    ks_goodness_of_fit,\n",
        "    sample_measurements,\n",
        ")"
      ]
    },
    {
      "cell_type": "code",
      "execution_count": 2,
      "metadata": {},
      "outputs": [],
      "source": [
        "sim = SplitStepSimulator(grid_points=2048, length=60.0)\n",
        "\n",
        "# Construct a superposition that mimics two illuminated slits.\n",
        "packet_left = sim.gaussian_wavepacket(sim.x, x0=-3.0, p0=7.0, sigma=0.6)\n",
        "packet_right = sim.gaussian_wavepacket(sim.x, x0=3.0, p0=7.0, sigma=0.6)\n",
        "psi0 = packet_left + packet_right\n",
        "\n",
        "# Normalise the combined state before propagation.\n",
        "psi0 /= np.sqrt(np.sum(np.abs(psi0) ** 2))\n",
        "\n",
        "# Propagate the wave function so the packets overlap on the detection screen.\n",
        "potential = np.zeros_like(sim.x)\n",
        "psi_t = sim.evolve(psi0, potential=potential, dt=0.0025, steps=1200)\n",
        "\n",
        "prob_density = born_probability(psi_t)"
      ]
    },
    {
      "cell_type": "code",
      "execution_count": 3,
      "metadata": {},
      "outputs": [],
      "source": [
        "# Bin the distribution to represent detector pixels across the screen.\n",
        "bin_edges = np.linspace(sim.x.min(), sim.x.max(), 121)\n",
        "bin_centres = 0.5 * (bin_edges[:-1] + bin_edges[1:])\n",
        "expected_prob = sim.bin_probabilities(psi_t, bin_edges)\n",
        "\n",
        "# Draw detector events and compare histograms.\n",
        "rng = np.random.default_rng(2024)\n",
        "samples = sample_measurements(expected_prob, size=50000, rng=rng)\n",
        "counts = np.bincount(samples, minlength=expected_prob.size)\n",
        "\n",
        "chi2_stat, chi2_p = chi_squared_gof(expected_prob, counts)\n",
        "ks_stat, ks_p = ks_goodness_of_fit(expected_prob, samples)"
      ]
    },
    {
      "cell_type": "code",
      "execution_count": null,
      "metadata": {},
      "outputs": [],
      "source": [
        "plt.figure(figsize=(10, 5))\n",
        "plt.bar(bin_centres, counts / counts.sum(), width=np.diff(bin_edges), alpha=0.4, label='Sampled events')\n",
        "plt.plot(bin_centres, expected_prob, color='black', linewidth=2, label='Predicted probability')\n",
        "plt.xlabel('Screen position (a.u.)')\n",
        "plt.ylabel('Probability density')\n",
        "plt.title('Double-slit interference: predicted vs sampled histograms')\n",
        "plt.legend()\n",
        "plt.tight_layout()\n",
        "plt.show()\n",
        "\n",
        "print(f'Chi-squared statistic: {chi2_stat:.3f}, p-value: {chi2_p:.3f}')\n",
        "print(f'KS statistic: {ks_stat:.3f}, p-value: {ks_p:.3f}')"
      ]
    },
    {
      "cell_type": "markdown",
      "metadata": {},
      "source": [
        "Both tests return high p-values, indicating that the sampled detector clicks reproduce the coarse-grained prediction derived from the wave function."
      ]
    }
  ],
  "metadata": {
    "kernelspec": {
      "display_name": ".venv (3.12.3)",
      "language": "python",
      "name": "python3"
    },
    "language_info": {
      "codemirror_mode": {
        "name": "ipython",
        "version": 3
      },
      "file_extension": ".py",
      "mimetype": "text/x-python",
      "name": "python",
      "nbconvert_exporter": "python",
      "pygments_lexer": "ipython3",
      "version": "3.12.3"
    }
  },
  "nbformat": 4,
  "nbformat_minor": 5
}
